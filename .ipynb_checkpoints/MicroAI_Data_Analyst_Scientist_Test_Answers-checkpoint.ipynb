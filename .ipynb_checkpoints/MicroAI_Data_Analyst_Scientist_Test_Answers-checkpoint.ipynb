{
 "cells": [
  {
   "cell_type": "markdown",
   "id": "2abf1fb7",
   "metadata": {},
   "source": [
    "### Import required Libraries"
   ]
  },
  {
   "cell_type": "code",
   "execution_count": 1,
   "id": "ac518ae5",
   "metadata": {
    "scrolled": true
   },
   "outputs": [],
   "source": [
    "import pandas as pd\n",
    "import numpy as np\n",
    "import matplotlib.pyplot as plt\n",
    "import matplotlib.patches as mpatches\n",
    "import tabula\n",
    "from sklearn.ensemble import IsolationForest"
   ]
  },
  {
   "cell_type": "markdown",
   "id": "b45aa3cf",
   "metadata": {},
   "source": [
    "### Loading in data"
   ]
  },
  {
   "cell_type": "markdown",
   "id": "7e366ce1",
   "metadata": {},
   "source": [
    "Seeing if I can read the pdf files with `tabula`.  I was able to get the exercise 2 table but not exercise 1.  \n",
    "\n",
    "Exercise 1 I just hard coded/ hand typed the values which can be a problem with human error and it is slower to do it manually. For this problem there was no \"need\" to enter the values in because the exercise did not need coding to complete it.  "
   ]
  },
  {
   "cell_type": "code",
   "execution_count": 2,
   "id": "ef324e86",
   "metadata": {
    "scrolled": true
   },
   "outputs": [
    {
     "name": "stderr",
     "output_type": "stream",
     "text": [
      "The output file is empty.\n"
     ]
    },
    {
     "data": {
      "text/plain": [
       "[]"
      ]
     },
     "execution_count": 2,
     "metadata": {},
     "output_type": "execute_result"
    }
   ],
   "source": [
    "tabula.read_pdf('./MicroAI_Data Analyst Scientist Test_Questions.pdf', pages=1, multiple_tables= False)"
   ]
  },
  {
   "cell_type": "code",
   "execution_count": 28,
   "id": "99c4685e",
   "metadata": {},
   "outputs": [],
   "source": [
    "data = [['Houston_Rockets','Dallas_Mavericks',0],\n",
    "       ['Houston_Rockets','Boston_Celtics',0],\n",
    "       ['Houston_Rockets','Toronto_Raptors',1],\n",
    "       ['Houston_Rockets','Denver_Nuggets',0],\n",
    "       ['Dallas_Mavericks','Boston_Celtics',0],\n",
    "       ['Dallas_Mavericks','Toronto_Raptors',0],\n",
    "       ['Dallas_Mavericks','Denver_Nuggets',1],\n",
    "       ['Boston_Celtics','Toronto_Raptors',0],\n",
    "       ['Boston_Celtics','Denver_Nuggets',1],\n",
    "       ['Toronto_Raptors','Denver_Nuggets',0],\n",
    "        \n",
    "        ['Houston_Rockets','Dallas_Mavericks',1],\n",
    "       ['Houston_Rockets','Boston_Celtics',1],\n",
    "       ['Houston_Rockets','Toronto_Raptors',0],\n",
    "       ['Houston_Rockets','Denver_Nuggets',1],\n",
    "       ['Dallas_Mavericks','Boston_Celtics',0],\n",
    "       ['Dallas_Mavericks','Toronto_Raptors',1],\n",
    "       ['Dallas_Mavericks','Denver_Nuggets',0],\n",
    "       ['Boston_Celtics','Toronto_Raptors',1],\n",
    "       ['Boston_Celtics','Denver_Nuggets',0],\n",
    "       ['Toronto_Raptors','Denver_Nuggets',1],\n",
    "        \n",
    "        ['Houston_Rockets','Dallas_Mavericks',1],\n",
    "       ['Houston_Rockets','Boston_Celtics',1],\n",
    "       ['Houston_Rockets','Toronto_Raptors',1],\n",
    "       ['Houston_Rockets','Denver_Nuggets',1],\n",
    "       ['Dallas_Mavericks','Boston_Celtics',0],\n",
    "       ['Dallas_Mavericks','Toronto_Raptors',1],\n",
    "       ['Dallas_Mavericks','Denver_Nuggets',0],\n",
    "       ['Boston_Celtics','Toronto_Raptors',1],\n",
    "       ['Boston_Celtics','Denver_Nuggets',0],\n",
    "       ['Toronto_Raptors','Denver_Nuggets',1],\n",
    "        \n",
    "        ['Houston_Rockets','Dallas_Mavericks',0],\n",
    "       ['Houston_Rockets','Boston_Celtics',1],\n",
    "       ['Houston_Rockets','Toronto_Raptors',1],\n",
    "       ['Houston_Rockets','Denver_Nuggets',0],\n",
    "       ['Dallas_Mavericks','Boston_Celtics',1],\n",
    "       ['Dallas_Mavericks','Toronto_Raptors',1],\n",
    "       ['Dallas_Mavericks','Denver_Nuggets',0],\n",
    "       ['Boston_Celtics','Toronto_Raptors',1],\n",
    "       ['Boston_Celtics','Denver_Nuggets',0],\n",
    "       ['Toronto_Raptors','Denver_Nuggets',1],\n",
    "        \n",
    "        ['Houston_Rockets','Dallas_Mavericks',1],\n",
    "       ['Houston_Rockets','Boston_Celtics',1],\n",
    "       ['Houston_Rockets','Toronto_Raptors',0],\n",
    "       ['Houston_Rockets','Denver_Nuggets',0],\n",
    "       ['Dallas_Mavericks','Boston_Celtics',0],\n",
    "       ['Dallas_Mavericks','Toronto_Raptors',0],\n",
    "       ['Dallas_Mavericks','Denver_Nuggets',0],\n",
    "       ['Boston_Celtics','Toronto_Raptors',0],\n",
    "       ['Boston_Celtics','Denver_Nuggets',0],\n",
    "       ['Toronto_Raptors','Denver_Nuggets',1],\n",
    "        \n",
    "]\n",
    "nba_games = pd.DataFrame(data, columns=['team_1', 'team_2','win'])\n",
    "#for the win column 0=team_1 winning and 1=team_2 winning"
   ]
  },
  {
   "cell_type": "code",
   "execution_count": 4,
   "id": "adc289f1",
   "metadata": {
    "scrolled": true
   },
   "outputs": [],
   "source": [
    "table2 = tabula.read_pdf('./MicroAI_Data Analyst Scientist Test_Questions.pdf', pages=2)"
   ]
  },
  {
   "cell_type": "code",
   "execution_count": 5,
   "id": "df58bf07",
   "metadata": {},
   "outputs": [],
   "source": [
    "tabula.convert_into('./MicroAI_Data Analyst Scientist Test_Questions.pdf', 'table2.csv', pages=2)"
   ]
  },
  {
   "cell_type": "code",
   "execution_count": 6,
   "id": "aab9725e",
   "metadata": {},
   "outputs": [],
   "source": [
    "table2 = pd.read_csv('./table2.csv')"
   ]
  },
  {
   "cell_type": "markdown",
   "id": "b3329c3e",
   "metadata": {},
   "source": [
    "# Exercise 1:\n",
    "**Below is a table of historic results of basketball games. 1 represents a win, and -1\n",
    "represents a loss for the team labeled in that row.\n",
    "`nba_games`\n",
    "Tomorrow there is a game between the Denver Nuggets and the Dallas Mavericks.\n",
    "What is the probability that Denver will win?**"
   ]
  },
  {
   "cell_type": "code",
   "execution_count": 8,
   "id": "5d9ad9ba",
   "metadata": {},
   "outputs": [
    {
     "data": {
      "text/html": [
       "<div>\n",
       "<style scoped>\n",
       "    .dataframe tbody tr th:only-of-type {\n",
       "        vertical-align: middle;\n",
       "    }\n",
       "\n",
       "    .dataframe tbody tr th {\n",
       "        vertical-align: top;\n",
       "    }\n",
       "\n",
       "    .dataframe thead th {\n",
       "        text-align: right;\n",
       "    }\n",
       "</style>\n",
       "<table border=\"1\" class=\"dataframe\">\n",
       "  <thead>\n",
       "    <tr style=\"text-align: right;\">\n",
       "      <th></th>\n",
       "      <th>team_1</th>\n",
       "      <th>team_2</th>\n",
       "      <th>win</th>\n",
       "    </tr>\n",
       "  </thead>\n",
       "  <tbody>\n",
       "    <tr>\n",
       "      <th>6</th>\n",
       "      <td>Dallas_Mavericks</td>\n",
       "      <td>Denver_Nuggets</td>\n",
       "      <td>1</td>\n",
       "    </tr>\n",
       "    <tr>\n",
       "      <th>16</th>\n",
       "      <td>Dallas_Mavericks</td>\n",
       "      <td>Denver_Nuggets</td>\n",
       "      <td>0</td>\n",
       "    </tr>\n",
       "    <tr>\n",
       "      <th>26</th>\n",
       "      <td>Dallas_Mavericks</td>\n",
       "      <td>Denver_Nuggets</td>\n",
       "      <td>0</td>\n",
       "    </tr>\n",
       "    <tr>\n",
       "      <th>36</th>\n",
       "      <td>Dallas_Mavericks</td>\n",
       "      <td>Denver_Nuggets</td>\n",
       "      <td>0</td>\n",
       "    </tr>\n",
       "    <tr>\n",
       "      <th>46</th>\n",
       "      <td>Dallas_Mavericks</td>\n",
       "      <td>Denver_Nuggets</td>\n",
       "      <td>0</td>\n",
       "    </tr>\n",
       "  </tbody>\n",
       "</table>\n",
       "</div>"
      ],
      "text/plain": [
       "              team_1          team_2  win\n",
       "6   Dallas_Mavericks  Denver_Nuggets    1\n",
       "16  Dallas_Mavericks  Denver_Nuggets    0\n",
       "26  Dallas_Mavericks  Denver_Nuggets    0\n",
       "36  Dallas_Mavericks  Denver_Nuggets    0\n",
       "46  Dallas_Mavericks  Denver_Nuggets    0"
      ]
     },
     "execution_count": 8,
     "metadata": {},
     "output_type": "execute_result"
    }
   ],
   "source": [
    "mavs_nug = nba_games[(nba_games.team_1 == 'Dallas_Mavericks') & (nba_games.team_2 == 'Denver_Nuggets')]\n",
    "mavs_nug"
   ]
  },
  {
   "cell_type": "code",
   "execution_count": 9,
   "id": "bc74cdc9",
   "metadata": {},
   "outputs": [
    {
     "data": {
      "text/plain": [
       "0    0.8\n",
       "1    0.2\n",
       "Name: win, dtype: float64"
      ]
     },
     "execution_count": 9,
     "metadata": {},
     "output_type": "execute_result"
    }
   ],
   "source": [
    "mavs_nug.win.value_counts(normalize=True)"
   ]
  },
  {
   "cell_type": "markdown",
   "id": "fbb0c861",
   "metadata": {},
   "source": [
    "Answer: From the information that we are given, I would calculate the probability of a team winning from the frequency of the two teams prior game history and if even I would use overall record to break the tie.  There is a limited amount of features given in this dataset for predicting outcomes and background information.  More information such as home/ away games or if these games are occuring chronologically can affect the prediction.  So without making any false assumptions about the data, I looked at all instances where the Dallas_Mavericks and Denver_Nuggets competed against eachother and took the probability that Denver won over all games they played against eachother.  Denver Nuggets won one out of the five games they played against eachother so the probability that Denver will win against Dallas in their next game will be 0.2 or 20%."
   ]
  },
  {
   "cell_type": "markdown",
   "id": "88037e53",
   "metadata": {},
   "source": [
    "# Exercise 2\n",
    "**Below is a table of widths and heights (in pixels) belonging to different figures:**\n",
    "\n",
    "**`table2`**\n",
    "\n",
    "**Using a machine learning algorithm, can you determine if a figure with width 30 and\n",
    "height 22 is considered an anomaly in the above data set?** "
   ]
  },
  {
   "cell_type": "markdown",
   "id": "627e256b",
   "metadata": {},
   "source": [
    "There are multiple ways to interpret this question since the criteria for considering the sample figure anomalous was not provided.  If the question is describing a data set that may contain multiple clusters (e.g., manufacturing several parts with different specifications but the data for all part is compiled), then I have to look at the data for clustering and determine if the 30W x 22H figure is within one of the clusters. If the question is describing the data within the table as considered to be a single data cluster (e.g., one part with some variation allowed), then I have to analyze if the figure  is conforming to the data set in it's entirety without considering the data clusters.  Or possibly, if the sample part is no more anomalous to the \"average\" than any of the individual data points within the given data table, then it would not be considered statistically different.\n",
    "\n",
    "If clustering is not considered, a simple evaluation of each measure and the ratio of the measures should sufficiently determine if the sample figure is anomalous to the data table.  Is the Width within the range of the data set?  Yes, but it is an outlier.  Is the Height within the range of the data set?  No, it is outside/below the range of the data set.  Is the W:H ratio statistically different than the W:H ratio of the rest of the data.  No, ... **(Shown in EDA)**\n",
    "\n",
    "Next I looked at the data to determine if there was any clustering such that the sample could be within the universe of the data but still anomalous to the clusters.  I determined that the data table does contain clustering such that a comparative part could be between the clusters but still anomalous to both.\n",
    "The method I chose to use is Unsupervised learning route because we do not have the target variable.  The algorithms I initally thought of using were One Class SVM, LOF, and IsolationForest for anomaly detection.  According to sklearn documentation one-class SVM is applied for novelity detection which assumes that all data that is fitted on the model is considered good which was not stated in the question, so I decided to go with IsolationForest which is used more with outlier detection. **(Shown in Model Building)**"
   ]
  },
  {
   "cell_type": "markdown",
   "id": "3cdd0a20",
   "metadata": {},
   "source": [
    "### EDA"
   ]
  },
  {
   "cell_type": "markdown",
   "id": "f539e1ae",
   "metadata": {},
   "source": [
    "Because there is no time variable, there is no anomalies we can detect from trends.  We will be looking for collective anomalies, with respect to the entire data set.  EDA was performed for curiousity reasons and for gaining a better insight on the data that was provided. "
   ]
  },
  {
   "cell_type": "code",
   "execution_count": 10,
   "id": "bb6542bc",
   "metadata": {},
   "outputs": [
    {
     "data": {
      "text/html": [
       "<div>\n",
       "<style scoped>\n",
       "    .dataframe tbody tr th:only-of-type {\n",
       "        vertical-align: middle;\n",
       "    }\n",
       "\n",
       "    .dataframe tbody tr th {\n",
       "        vertical-align: top;\n",
       "    }\n",
       "\n",
       "    .dataframe thead th {\n",
       "        text-align: right;\n",
       "    }\n",
       "</style>\n",
       "<table border=\"1\" class=\"dataframe\">\n",
       "  <thead>\n",
       "    <tr style=\"text-align: right;\">\n",
       "      <th></th>\n",
       "      <th>Width</th>\n",
       "      <th>Height</th>\n",
       "    </tr>\n",
       "  </thead>\n",
       "  <tbody>\n",
       "    <tr>\n",
       "      <th>count</th>\n",
       "      <td>25.000000</td>\n",
       "      <td>25.000000</td>\n",
       "    </tr>\n",
       "    <tr>\n",
       "      <th>mean</th>\n",
       "      <td>25.440000</td>\n",
       "      <td>26.240000</td>\n",
       "    </tr>\n",
       "    <tr>\n",
       "      <th>std</th>\n",
       "      <td>2.022375</td>\n",
       "      <td>2.203785</td>\n",
       "    </tr>\n",
       "    <tr>\n",
       "      <th>min</th>\n",
       "      <td>21.000000</td>\n",
       "      <td>24.000000</td>\n",
       "    </tr>\n",
       "    <tr>\n",
       "      <th>25%</th>\n",
       "      <td>24.000000</td>\n",
       "      <td>25.000000</td>\n",
       "    </tr>\n",
       "    <tr>\n",
       "      <th>50%</th>\n",
       "      <td>25.000000</td>\n",
       "      <td>25.000000</td>\n",
       "    </tr>\n",
       "    <tr>\n",
       "      <th>75%</th>\n",
       "      <td>27.000000</td>\n",
       "      <td>29.000000</td>\n",
       "    </tr>\n",
       "    <tr>\n",
       "      <th>max</th>\n",
       "      <td>30.000000</td>\n",
       "      <td>30.000000</td>\n",
       "    </tr>\n",
       "  </tbody>\n",
       "</table>\n",
       "</div>"
      ],
      "text/plain": [
       "           Width     Height\n",
       "count  25.000000  25.000000\n",
       "mean   25.440000  26.240000\n",
       "std     2.022375   2.203785\n",
       "min    21.000000  24.000000\n",
       "25%    24.000000  25.000000\n",
       "50%    25.000000  25.000000\n",
       "75%    27.000000  29.000000\n",
       "max    30.000000  30.000000"
      ]
     },
     "execution_count": 10,
     "metadata": {},
     "output_type": "execute_result"
    }
   ],
   "source": [
    "table2.describe()"
   ]
  },
  {
   "cell_type": "code",
   "execution_count": 11,
   "id": "09d2fdf9",
   "metadata": {
    "scrolled": true
   },
   "outputs": [
    {
     "data": {
      "image/png": "[encoded data removed]",
      "text/plain": [
       "<Figure size 432x288 with 1 Axes>"
      ]
     },
     "metadata": {
      "needs_background": "light"
     },
     "output_type": "display_data"
    }
   ],
   "source": [
    "plt.hist2d(table2.Width, table2.Height);"
   ]
  },
  {
   "cell_type": "code",
   "execution_count": 12,
   "id": "d5021277",
   "metadata": {},
   "outputs": [
    {
     "data": {
      "image/png": "[encoded data removed]",
      "text/plain": [
       "<Figure size 432x288 with 1 Axes>"
      ]
     },
     "metadata": {
      "needs_background": "light"
     },
     "output_type": "display_data"
    }
   ],
   "source": [
    "plt.hist(table2);"
   ]
  },
  {
   "cell_type": "code",
   "execution_count": 22,
   "id": "dce2b830",
   "metadata": {},
   "outputs": [
    {
     "data": {
      "image/png": "[encoded data removed]",
      "text/plain": [
       "<Figure size 432x288 with 1 Axes>"
      ]
     },
     "metadata": {
      "needs_background": "light"
     },
     "output_type": "display_data"
    }
   ],
   "source": [
    "table2B = table2.copy()\n",
    "sample = [[30, 22, (30/22)]]\n",
    "sample_df = pd.DataFrame(sample, columns=['Width','Height','WH_ratio'])\n",
    "# table2B = table2B.append(sample, ignore_index = True)\n",
    "table2B['WH_ratio'] = table2B.Width / table2B.Height\n",
    "plt.hist(table2B.WH_ratio),plt.hist(sample_df.WH_ratio);"
   ]
  },
  {
   "cell_type": "markdown",
   "id": "2e20e8fa",
   "metadata": {},
   "source": [
    "By observing a width/height ratio we can see that the 30H,22W = 1.36 is outside of distribution and can counted as an outlier."
   ]
  },
  {
   "cell_type": "markdown",
   "id": "3ea1f6e6",
   "metadata": {},
   "source": [
    "## Model Building"
   ]
  },
  {
   "cell_type": "code",
   "execution_count": 23,
   "id": "4b44433a",
   "metadata": {},
   "outputs": [
    {
     "data": {
      "text/plain": [
       "IsolationForest()"
      ]
     },
     "execution_count": 23,
     "metadata": {},
     "output_type": "execute_result"
    }
   ],
   "source": [
    "model = IsolationForest() #instantiating the model\n",
    "model.fit(table2) #fitting the model"
   ]
  },
  {
   "cell_type": "code",
   "execution_count": 24,
   "id": "93706648",
   "metadata": {
    "scrolled": true
   },
   "outputs": [
    {
     "data": {
      "text/html": [
       "<div>\n",
       "<style scoped>\n",
       "    .dataframe tbody tr th:only-of-type {\n",
       "        vertical-align: middle;\n",
       "    }\n",
       "\n",
       "    .dataframe tbody tr th {\n",
       "        vertical-align: top;\n",
       "    }\n",
       "\n",
       "    .dataframe thead th {\n",
       "        text-align: right;\n",
       "    }\n",
       "</style>\n",
       "<table border=\"1\" class=\"dataframe\">\n",
       "  <thead>\n",
       "    <tr style=\"text-align: right;\">\n",
       "      <th></th>\n",
       "      <th>Width</th>\n",
       "      <th>Height</th>\n",
       "      <th>anomaly_scores</th>\n",
       "      <th>anomaly</th>\n",
       "    </tr>\n",
       "  </thead>\n",
       "  <tbody>\n",
       "    <tr>\n",
       "      <th>0</th>\n",
       "      <td>25</td>\n",
       "      <td>24</td>\n",
       "      <td>0.043634</td>\n",
       "      <td>1</td>\n",
       "    </tr>\n",
       "    <tr>\n",
       "      <th>1</th>\n",
       "      <td>25</td>\n",
       "      <td>25</td>\n",
       "      <td>0.117026</td>\n",
       "      <td>1</td>\n",
       "    </tr>\n",
       "    <tr>\n",
       "      <th>2</th>\n",
       "      <td>25</td>\n",
       "      <td>25</td>\n",
       "      <td>0.117026</td>\n",
       "      <td>1</td>\n",
       "    </tr>\n",
       "    <tr>\n",
       "      <th>3</th>\n",
       "      <td>21</td>\n",
       "      <td>24</td>\n",
       "      <td>-0.173035</td>\n",
       "      <td>-1</td>\n",
       "    </tr>\n",
       "    <tr>\n",
       "      <th>4</th>\n",
       "      <td>24</td>\n",
       "      <td>24</td>\n",
       "      <td>0.010743</td>\n",
       "      <td>1</td>\n",
       "    </tr>\n",
       "    <tr>\n",
       "      <th>5</th>\n",
       "      <td>30</td>\n",
       "      <td>29</td>\n",
       "      <td>-0.119905</td>\n",
       "      <td>-1</td>\n",
       "    </tr>\n",
       "    <tr>\n",
       "      <th>6</th>\n",
       "      <td>25</td>\n",
       "      <td>25</td>\n",
       "      <td>0.117026</td>\n",
       "      <td>1</td>\n",
       "    </tr>\n",
       "    <tr>\n",
       "      <th>7</th>\n",
       "      <td>25</td>\n",
       "      <td>25</td>\n",
       "      <td>0.117026</td>\n",
       "      <td>1</td>\n",
       "    </tr>\n",
       "    <tr>\n",
       "      <th>8</th>\n",
       "      <td>27</td>\n",
       "      <td>29</td>\n",
       "      <td>-0.003126</td>\n",
       "      <td>-1</td>\n",
       "    </tr>\n",
       "    <tr>\n",
       "      <th>9</th>\n",
       "      <td>25</td>\n",
       "      <td>29</td>\n",
       "      <td>0.017008</td>\n",
       "      <td>1</td>\n",
       "    </tr>\n",
       "    <tr>\n",
       "      <th>10</th>\n",
       "      <td>24</td>\n",
       "      <td>29</td>\n",
       "      <td>-0.002927</td>\n",
       "      <td>-1</td>\n",
       "    </tr>\n",
       "    <tr>\n",
       "      <th>11</th>\n",
       "      <td>24</td>\n",
       "      <td>25</td>\n",
       "      <td>0.074558</td>\n",
       "      <td>1</td>\n",
       "    </tr>\n",
       "    <tr>\n",
       "      <th>12</th>\n",
       "      <td>27</td>\n",
       "      <td>25</td>\n",
       "      <td>0.037924</td>\n",
       "      <td>1</td>\n",
       "    </tr>\n",
       "    <tr>\n",
       "      <th>13</th>\n",
       "      <td>24</td>\n",
       "      <td>27</td>\n",
       "      <td>-0.052205</td>\n",
       "      <td>-1</td>\n",
       "    </tr>\n",
       "    <tr>\n",
       "      <th>14</th>\n",
       "      <td>24</td>\n",
       "      <td>25</td>\n",
       "      <td>0.074558</td>\n",
       "      <td>1</td>\n",
       "    </tr>\n",
       "    <tr>\n",
       "      <th>15</th>\n",
       "      <td>25</td>\n",
       "      <td>24</td>\n",
       "      <td>0.043634</td>\n",
       "      <td>1</td>\n",
       "    </tr>\n",
       "    <tr>\n",
       "      <th>16</th>\n",
       "      <td>24</td>\n",
       "      <td>25</td>\n",
       "      <td>0.074558</td>\n",
       "      <td>1</td>\n",
       "    </tr>\n",
       "    <tr>\n",
       "      <th>17</th>\n",
       "      <td>25</td>\n",
       "      <td>30</td>\n",
       "      <td>-0.071957</td>\n",
       "      <td>-1</td>\n",
       "    </tr>\n",
       "    <tr>\n",
       "      <th>18</th>\n",
       "      <td>29</td>\n",
       "      <td>29</td>\n",
       "      <td>-0.052405</td>\n",
       "      <td>-1</td>\n",
       "    </tr>\n",
       "    <tr>\n",
       "      <th>19</th>\n",
       "      <td>27</td>\n",
       "      <td>30</td>\n",
       "      <td>-0.083067</td>\n",
       "      <td>-1</td>\n",
       "    </tr>\n",
       "    <tr>\n",
       "      <th>20</th>\n",
       "      <td>27</td>\n",
       "      <td>24</td>\n",
       "      <td>-0.061303</td>\n",
       "      <td>-1</td>\n",
       "    </tr>\n",
       "    <tr>\n",
       "      <th>21</th>\n",
       "      <td>29</td>\n",
       "      <td>25</td>\n",
       "      <td>-0.116543</td>\n",
       "      <td>-1</td>\n",
       "    </tr>\n",
       "    <tr>\n",
       "      <th>22</th>\n",
       "      <td>27</td>\n",
       "      <td>25</td>\n",
       "      <td>0.037924</td>\n",
       "      <td>1</td>\n",
       "    </tr>\n",
       "    <tr>\n",
       "      <th>23</th>\n",
       "      <td>25</td>\n",
       "      <td>25</td>\n",
       "      <td>0.117026</td>\n",
       "      <td>1</td>\n",
       "    </tr>\n",
       "    <tr>\n",
       "      <th>24</th>\n",
       "      <td>23</td>\n",
       "      <td>29</td>\n",
       "      <td>-0.079332</td>\n",
       "      <td>-1</td>\n",
       "    </tr>\n",
       "  </tbody>\n",
       "</table>\n",
       "</div>"
      ],
      "text/plain": [
       "    Width  Height  anomaly_scores  anomaly\n",
       "0      25      24        0.043634        1\n",
       "1      25      25        0.117026        1\n",
       "2      25      25        0.117026        1\n",
       "3      21      24       -0.173035       -1\n",
       "4      24      24        0.010743        1\n",
       "5      30      29       -0.119905       -1\n",
       "6      25      25        0.117026        1\n",
       "7      25      25        0.117026        1\n",
       "8      27      29       -0.003126       -1\n",
       "9      25      29        0.017008        1\n",
       "10     24      29       -0.002927       -1\n",
       "11     24      25        0.074558        1\n",
       "12     27      25        0.037924        1\n",
       "13     24      27       -0.052205       -1\n",
       "14     24      25        0.074558        1\n",
       "15     25      24        0.043634        1\n",
       "16     24      25        0.074558        1\n",
       "17     25      30       -0.071957       -1\n",
       "18     29      29       -0.052405       -1\n",
       "19     27      30       -0.083067       -1\n",
       "20     27      24       -0.061303       -1\n",
       "21     29      25       -0.116543       -1\n",
       "22     27      25        0.037924        1\n",
       "23     25      25        0.117026        1\n",
       "24     23      29       -0.079332       -1"
      ]
     },
     "execution_count": 24,
     "metadata": {},
     "output_type": "execute_result"
    }
   ],
   "source": [
    "table2A = table2.copy() #creating a copy so I can refer back to the original if need be\n",
    "table2A['anomaly_scores'] = model.decision_function(table2) #creates a colummn to view the averaged anomaly scores in the copy \n",
    "table2A['anomaly'] = model.predict(table2) #creating a column to view the predictions of the model\n",
    "table2A"
   ]
  },
  {
   "cell_type": "code",
   "execution_count": 25,
   "id": "7266236c",
   "metadata": {},
   "outputs": [
    {
     "data": {
      "text/plain": [
       "array([-1])"
      ]
     },
     "execution_count": 25,
     "metadata": {},
     "output_type": "execute_result"
    }
   ],
   "source": [
    "model.predict([[30,22]]) #predicting on the exercise questions point"
   ]
  },
  {
   "cell_type": "markdown",
   "id": "32ee6e1d",
   "metadata": {},
   "source": [
    "**My model predicted that this unit with a width of 30 and height of 22 would be detected as an anomaly.**  "
   ]
  },
  {
   "cell_type": "code",
   "execution_count": 26,
   "id": "1e23f789",
   "metadata": {},
   "outputs": [
    {
     "data": {
      "image/png": "[encoded data removed]",
      "text/plain": [
       "<Figure size 720x360 with 1 Axes>"
      ]
     },
     "metadata": {
      "needs_background": "light"
     },
     "output_type": "display_data"
    }
   ],
   "source": [
    "Exercise_Point = [30,22] # width, height\n",
    "if model.predict([Exercise_Point])==-1: \n",
    "    exercise_color = 'red'\n",
    "else:\n",
    "    exercise_color = 'blue'\n",
    "\n",
    "anomaly_patch = mpatches.Patch(color='red', label='Anomaly_Detected')\n",
    "not_patch = mpatches.Patch(color='blue', label='Not_Anomaly')\n",
    "\n",
    "plt.figure(figsize=[10,5])\n",
    "plt.scatter(table2A[table2A['anomaly']==-1]['Width'], table2A[table2A['anomaly']==-1]['Height'],c='r',alpha=0.5)\n",
    "plt.scatter(table2A[table2A['anomaly']==1]['Width'], table2A[table2A['anomaly']==1]['Height'],c='b',alpha=0.5)\n",
    "plt.plot(Exercise_Point[0], Exercise_Point[1],'+',c=exercise_color)\n",
    "plt.legend(handles=[anomaly_patch,not_patch], loc='lower left')\n",
    "plt.title('Density of the Anomaly Detection Model Predictions')\n",
    "plt.xlabel('Width')\n",
    "plt.ylabel('Height');"
   ]
  },
  {
   "cell_type": "markdown",
   "id": "6832eaea",
   "metadata": {},
   "source": [
    "The results from the model and the questions point can be viewed in the above graph.  The  exercise sample is represented as a \"+\"."
   ]
  },
  {
   "cell_type": "code",
   "execution_count": null,
   "id": "6b623c02",
   "metadata": {},
   "outputs": [],
   "source": []
  }
 ],
 "metadata": {
  "kernelspec": {
   "display_name": "Python 3 (ipykernel)",
   "language": "python",
   "name": "python3"
  },
  "language_info": {
   "codemirror_mode": {
    "name": "ipython",
    "version": 3
   },
   "file_extension": ".py",
   "mimetype": "text/x-python",
   "name": "python",
   "nbconvert_exporter": "python",
   "pygments_lexer": "ipython3",
   "version": "3.9.7"
  }
 },
 "nbformat": 4,
 "nbformat_minor": 5
}
